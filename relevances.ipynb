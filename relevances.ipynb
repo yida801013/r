{
 "cells": [
  {
   "cell_type": "code",
   "execution_count": 1,
   "metadata": {
    "collapsed": true
   },
   "outputs": [],
   "source": [
    "# return a list of relevances for supplied ids, given a dictionary of ratings\n",
    "# unrated items get a score of zero\n",
    "def get_relevances( ratings, ids ):\n",
    "\tr = [ 0. ] * len( ids )\n",
    "\tfor i, x in enumerate( ids ):\n",
    "\t\ttry:\n",
    "\t\t\tr[i] = ratings[x] - relevance_bias\n",
    "\t\texcept KeyError:\n",
    "\t\t\tpass\n",
    "\t\n",
    "\treturn r\n",
    "\t\t\t\n",
    "\n",
    "# returns unsorted best possible relevances from the test set\n",
    "# if the list is shorter than ndcg_k, it gets padded with zeros\n",
    "def get_best_relevances( ratings, ids, ndcg_k ):\n",
    "\tr = [ ratings[x] - relevance_bias for x in ids if x in ratings and ratings[x] > relevance_bias ]\n",
    "\t\n",
    "\tif len( r ) < ndcg_k:\n",
    "\t\treturn r + [ 0. ] * ( ndcg_k - len( r ))\n",
    "\telse:\n",
    "\t\treturn r\n",
    "\n",
    "\n",
    "def get_worst_relevances( ratings, ids, ndcg_k ):\n",
    "\tr = [ ratings[x] - relevance_bias for x in ids if x in ratings and ratings[x] < relevance_bias ]\n",
    "\tif len( r ) < ndcg_k:\n",
    "\t\treturn r + [ 0. ] * ( ndcg_k - len( r ))\n",
    "\telse:\n",
    "\t\treturn r"
   ]
  },
  {
   "cell_type": "code",
   "execution_count": null,
   "metadata": {
    "collapsed": true
   },
   "outputs": [],
   "source": []
  }
 ],
 "metadata": {
  "kernelspec": {
   "display_name": "Python 3",
   "language": "python",
   "name": "python3"
  },
  "language_info": {
   "codemirror_mode": {
    "name": "ipython",
    "version": 3
   },
   "file_extension": ".py",
   "mimetype": "text/x-python",
   "name": "python",
   "nbconvert_exporter": "python",
   "pygments_lexer": "ipython3",
   "version": "3.6.6"
  }
 },
 "nbformat": 4,
 "nbformat_minor": 2
}
